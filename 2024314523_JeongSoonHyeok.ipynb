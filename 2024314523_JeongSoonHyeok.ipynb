{
  "nbformat": 4,
  "nbformat_minor": 0,
  "metadata": {
    "colab": {
      "provenance": []
    },
    "kernelspec": {
      "name": "python3",
      "display_name": "Python 3"
    },
    "language_info": {
      "name": "python"
    }
  },
  "cells": [
    {
      "cell_type": "code",
      "execution_count": 2,
      "metadata": {
        "id": "nEuqB_ivt2kV"
      },
      "outputs": [],
      "source": [
        "def isHappy(n):\n",
        "  # Complete the isHappy() function below\n",
        "  # The function should return either True or False\n",
        "\n",
        "  def sum_num(num):\n",
        "    return sum(int(a) ** 2 for a in str(num))\n",
        "  before = set()\n",
        "  while n != 0:\n",
        "    n = sum_num\n",
        "    if n in before:\n",
        "      return False\n",
        "    before.add(n)\n",
        "\n",
        "  return True\n",
        "  num = int(input(\"Input: \"))\n",
        "  result = isHappy(num)\n",
        "  print(\"Output: \", result)"
      ]
    }
  ]
}